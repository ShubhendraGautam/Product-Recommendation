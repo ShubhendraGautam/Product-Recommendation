{
  "nbformat": 4,
  "nbformat_minor": 0,
  "metadata": {
    "colab": {
      "provenance": []
    },
    "kernelspec": {
      "name": "python3",
      "display_name": "Python 3"
    },
    "language_info": {
      "name": "python"
    }
  },
  "cells": [
    {
      "cell_type": "markdown",
      "source": [
        "**Improved Accuracy Test**"
      ],
      "metadata": {
        "id": "4OL9Pn9-Re9B"
      }
    },
    {
      "cell_type": "code",
      "source": [
        "!pip install tensorflow"
      ],
      "metadata": {
        "colab": {
          "base_uri": "https://localhost:8080/"
        },
        "id": "x2mBFc4lRn1f",
        "outputId": "e67698e6-706b-443c-c9f8-d4eaff8a353c"
      },
      "execution_count": null,
      "outputs": [
        {
          "output_type": "stream",
          "name": "stdout",
          "text": [
            "Requirement already satisfied: tensorflow in /usr/local/lib/python3.10/dist-packages (2.12.0)\n",
            "Requirement already satisfied: absl-py>=1.0.0 in /usr/local/lib/python3.10/dist-packages (from tensorflow) (1.4.0)\n",
            "Requirement already satisfied: astunparse>=1.6.0 in /usr/local/lib/python3.10/dist-packages (from tensorflow) (1.6.3)\n",
            "Requirement already satisfied: flatbuffers>=2.0 in /usr/local/lib/python3.10/dist-packages (from tensorflow) (23.5.26)\n",
            "Requirement already satisfied: gast<=0.4.0,>=0.2.1 in /usr/local/lib/python3.10/dist-packages (from tensorflow) (0.4.0)\n",
            "Requirement already satisfied: google-pasta>=0.1.1 in /usr/local/lib/python3.10/dist-packages (from tensorflow) (0.2.0)\n",
            "Requirement already satisfied: grpcio<2.0,>=1.24.3 in /usr/local/lib/python3.10/dist-packages (from tensorflow) (1.57.0)\n",
            "Requirement already satisfied: h5py>=2.9.0 in /usr/local/lib/python3.10/dist-packages (from tensorflow) (3.9.0)\n",
            "Requirement already satisfied: jax>=0.3.15 in /usr/local/lib/python3.10/dist-packages (from tensorflow) (0.4.14)\n",
            "Requirement already satisfied: keras<2.13,>=2.12.0 in /usr/local/lib/python3.10/dist-packages (from tensorflow) (2.12.0)\n",
            "Requirement already satisfied: libclang>=13.0.0 in /usr/local/lib/python3.10/dist-packages (from tensorflow) (16.0.6)\n",
            "Requirement already satisfied: numpy<1.24,>=1.22 in /usr/local/lib/python3.10/dist-packages (from tensorflow) (1.23.5)\n",
            "Requirement already satisfied: opt-einsum>=2.3.2 in /usr/local/lib/python3.10/dist-packages (from tensorflow) (3.3.0)\n",
            "Requirement already satisfied: packaging in /usr/local/lib/python3.10/dist-packages (from tensorflow) (23.1)\n",
            "Requirement already satisfied: protobuf!=4.21.0,!=4.21.1,!=4.21.2,!=4.21.3,!=4.21.4,!=4.21.5,<5.0.0dev,>=3.20.3 in /usr/local/lib/python3.10/dist-packages (from tensorflow) (3.20.3)\n",
            "Requirement already satisfied: setuptools in /usr/local/lib/python3.10/dist-packages (from tensorflow) (67.7.2)\n",
            "Requirement already satisfied: six>=1.12.0 in /usr/local/lib/python3.10/dist-packages (from tensorflow) (1.16.0)\n",
            "Requirement already satisfied: tensorboard<2.13,>=2.12 in /usr/local/lib/python3.10/dist-packages (from tensorflow) (2.12.3)\n",
            "Requirement already satisfied: tensorflow-estimator<2.13,>=2.12.0 in /usr/local/lib/python3.10/dist-packages (from tensorflow) (2.12.0)\n",
            "Requirement already satisfied: termcolor>=1.1.0 in /usr/local/lib/python3.10/dist-packages (from tensorflow) (2.3.0)\n",
            "Requirement already satisfied: typing-extensions>=3.6.6 in /usr/local/lib/python3.10/dist-packages (from tensorflow) (4.7.1)\n",
            "Requirement already satisfied: wrapt<1.15,>=1.11.0 in /usr/local/lib/python3.10/dist-packages (from tensorflow) (1.14.1)\n",
            "Requirement already satisfied: tensorflow-io-gcs-filesystem>=0.23.1 in /usr/local/lib/python3.10/dist-packages (from tensorflow) (0.33.0)\n",
            "Requirement already satisfied: wheel<1.0,>=0.23.0 in /usr/local/lib/python3.10/dist-packages (from astunparse>=1.6.0->tensorflow) (0.41.1)\n",
            "Requirement already satisfied: ml-dtypes>=0.2.0 in /usr/local/lib/python3.10/dist-packages (from jax>=0.3.15->tensorflow) (0.2.0)\n",
            "Requirement already satisfied: scipy>=1.7 in /usr/local/lib/python3.10/dist-packages (from jax>=0.3.15->tensorflow) (1.10.1)\n",
            "Requirement already satisfied: google-auth<3,>=1.6.3 in /usr/local/lib/python3.10/dist-packages (from tensorboard<2.13,>=2.12->tensorflow) (2.17.3)\n",
            "Requirement already satisfied: google-auth-oauthlib<1.1,>=0.5 in /usr/local/lib/python3.10/dist-packages (from tensorboard<2.13,>=2.12->tensorflow) (1.0.0)\n",
            "Requirement already satisfied: markdown>=2.6.8 in /usr/local/lib/python3.10/dist-packages (from tensorboard<2.13,>=2.12->tensorflow) (3.4.4)\n",
            "Requirement already satisfied: requests<3,>=2.21.0 in /usr/local/lib/python3.10/dist-packages (from tensorboard<2.13,>=2.12->tensorflow) (2.31.0)\n",
            "Requirement already satisfied: tensorboard-data-server<0.8.0,>=0.7.0 in /usr/local/lib/python3.10/dist-packages (from tensorboard<2.13,>=2.12->tensorflow) (0.7.1)\n",
            "Requirement already satisfied: werkzeug>=1.0.1 in /usr/local/lib/python3.10/dist-packages (from tensorboard<2.13,>=2.12->tensorflow) (2.3.7)\n",
            "Requirement already satisfied: cachetools<6.0,>=2.0.0 in /usr/local/lib/python3.10/dist-packages (from google-auth<3,>=1.6.3->tensorboard<2.13,>=2.12->tensorflow) (5.3.1)\n",
            "Requirement already satisfied: pyasn1-modules>=0.2.1 in /usr/local/lib/python3.10/dist-packages (from google-auth<3,>=1.6.3->tensorboard<2.13,>=2.12->tensorflow) (0.3.0)\n",
            "Requirement already satisfied: rsa<5,>=3.1.4 in /usr/local/lib/python3.10/dist-packages (from google-auth<3,>=1.6.3->tensorboard<2.13,>=2.12->tensorflow) (4.9)\n",
            "Requirement already satisfied: requests-oauthlib>=0.7.0 in /usr/local/lib/python3.10/dist-packages (from google-auth-oauthlib<1.1,>=0.5->tensorboard<2.13,>=2.12->tensorflow) (1.3.1)\n",
            "Requirement already satisfied: charset-normalizer<4,>=2 in /usr/local/lib/python3.10/dist-packages (from requests<3,>=2.21.0->tensorboard<2.13,>=2.12->tensorflow) (3.2.0)\n",
            "Requirement already satisfied: idna<4,>=2.5 in /usr/local/lib/python3.10/dist-packages (from requests<3,>=2.21.0->tensorboard<2.13,>=2.12->tensorflow) (3.4)\n",
            "Requirement already satisfied: urllib3<3,>=1.21.1 in /usr/local/lib/python3.10/dist-packages (from requests<3,>=2.21.0->tensorboard<2.13,>=2.12->tensorflow) (2.0.4)\n",
            "Requirement already satisfied: certifi>=2017.4.17 in /usr/local/lib/python3.10/dist-packages (from requests<3,>=2.21.0->tensorboard<2.13,>=2.12->tensorflow) (2023.7.22)\n",
            "Requirement already satisfied: MarkupSafe>=2.1.1 in /usr/local/lib/python3.10/dist-packages (from werkzeug>=1.0.1->tensorboard<2.13,>=2.12->tensorflow) (2.1.3)\n",
            "Requirement already satisfied: pyasn1<0.6.0,>=0.4.6 in /usr/local/lib/python3.10/dist-packages (from pyasn1-modules>=0.2.1->google-auth<3,>=1.6.3->tensorboard<2.13,>=2.12->tensorflow) (0.5.0)\n",
            "Requirement already satisfied: oauthlib>=3.0.0 in /usr/local/lib/python3.10/dist-packages (from requests-oauthlib>=0.7.0->google-auth-oauthlib<1.1,>=0.5->tensorboard<2.13,>=2.12->tensorflow) (3.2.2)\n"
          ]
        }
      ]
    },
    {
      "cell_type": "markdown",
      "source": [
        "# **NCF Model**"
      ],
      "metadata": {
        "id": "OleAzyz4bzgk"
      }
    },
    {
      "cell_type": "code",
      "source": [
        "import pandas as pd\n",
        "import numpy as np\n",
        "from sklearn.model_selection import train_test_split\n",
        "from sklearn.preprocessing import MinMaxScaler\n",
        "import tensorflow as tf\n",
        "from tensorflow.keras.layers import Input, Embedding, Flatten, Dense, Concatenate, Dropout\n",
        "from tensorflow.keras.models import Model\n",
        "\n",
        "# Load data\n",
        "users = pd.read_csv('users.csv')\n",
        "products = pd.read_csv('products.csv')\n",
        "interactions = pd.read_csv('interactions.csv')\n",
        "\n",
        "# Create positive samples\n",
        "positive_samples = interactions[['User_ID', 'Product_ID']].copy()\n",
        "positive_samples['Label'] = 1\n",
        "\n",
        "# Create negative samples\n",
        "negative_samples_list = []\n",
        "for _, row in positive_samples.iterrows():\n",
        "    user_id = row['User_ID']\n",
        "    negative_products = products[~products['Product_ID'].isin(interactions[interactions['User_ID'] == user_id]['Product_ID'])].sample(3)['Product_ID'].tolist()\n",
        "    for neg_prod in negative_products:\n",
        "        negative_samples_list.append([user_id, neg_prod, 0])\n",
        "negative_samples = pd.DataFrame(negative_samples_list, columns=['User_ID', 'Product_ID', 'Label'])\n",
        "\n",
        "# Combine and shuffle data\n",
        "all_samples = pd.concat([positive_samples, negative_samples]).sample(frac=1).reset_index(drop=True)\n",
        "train, test = train_test_split(all_samples, test_size=0.2, random_state=42)\n",
        "\n",
        "# Feature preprocessing\n",
        "\n",
        "gender_mapping = {'Male': 0, 'Female': 1, 'Other': 2}\n",
        "users['Gender'] = users['Gender'].map(gender_mapping)\n",
        "\n",
        "# Map location strings to integers\n",
        "location_mapping = {loc: i for i, loc in enumerate(users['Location'].unique())}\n",
        "users['Location'] = users['Location'].map(location_mapping)\n",
        "\n",
        "users['Age'] = MinMaxScaler().fit_transform(users['Age'].values.reshape(-1, 1))\n",
        "category_mapping = {category: i for i, category in enumerate(products['Category'].unique())}\n",
        "products['Category'] = products['Category'].map(category_mapping)\n",
        "products['Price'] = MinMaxScaler().fit_transform(products['Price'].values.reshape(-1, 1))\n",
        "products['Avg_Rating'] = MinMaxScaler().fit_transform(products['Avg_Rating'].values.reshape(-1, 1))\n",
        "\n",
        "# Define model parameters\n",
        "NUM_USERS = 10000\n",
        "NUM_PRODUCTS = 5000\n",
        "EMBEDDING_SIZE = 20\n",
        "EMBEDDING_SIZE_GENDER = 2\n",
        "EMBEDDING_SIZE_LOCATION = 5\n",
        "EMBEDDING_SIZE_CATEGORY = 5\n",
        "\n",
        "# Model inputs\n",
        "user_input = Input(shape=(1,))\n",
        "product_input = Input(shape=(1,))\n",
        "user_age_input = Input(shape=(1,))\n",
        "user_gender_input = Input(shape=(1,))\n",
        "user_location_input = Input(shape=(1,))\n",
        "product_price_input = Input(shape=(1,))\n",
        "product_rating_input = Input(shape=(1,))\n",
        "product_category_input = Input(shape=(1,))\n",
        "\n"
      ],
      "metadata": {
        "id": "DIP9yy7vReY-"
      },
      "execution_count": null,
      "outputs": []
    },
    {
      "cell_type": "code",
      "source": [
        "# Embeddings\n",
        "user_embedding = Embedding(input_dim=NUM_USERS + 1, output_dim=EMBEDDING_SIZE)(user_input)\n",
        "product_embedding = Embedding(input_dim=NUM_PRODUCTS + 1, output_dim=EMBEDDING_SIZE)(product_input)\n",
        "user_gender_embedding = Embedding(input_dim=3, output_dim=EMBEDDING_SIZE_GENDER)(user_gender_input)\n",
        "user_location_embedding = Embedding(input_dim=users['Location'].nunique() + 1, output_dim=EMBEDDING_SIZE_LOCATION)(user_location_input)\n",
        "product_category_embedding = Embedding(input_dim=products['Category'].nunique() + 1, output_dim=EMBEDDING_SIZE_CATEGORY)(product_category_input)\n",
        "\n",
        "# Flatten embeddings\n",
        "user_embedding = Flatten()(user_embedding)\n",
        "product_embedding = Flatten()(product_embedding)\n",
        "user_gender_embedding = Flatten()(user_gender_embedding)\n",
        "user_location_embedding = Flatten()(user_location_embedding)\n",
        "product_category_embedding = Flatten()(product_category_embedding)\n",
        "\n",
        "# Concatenate all features\n",
        "all_features = Concatenate()([user_embedding, product_embedding, user_age_input, user_gender_embedding, user_location_embedding, product_price_input, product_rating_input, product_category_embedding])\n",
        "x = Dense(128, activation='relu')(all_features)\n",
        "x = Dropout(0.2)(x)\n",
        "x = Dense(64, activation='relu')(x)\n",
        "output = Dense(1, activation='sigmoid')(x)"
      ],
      "metadata": {
        "id": "rcchC-h5S_fW"
      },
      "execution_count": null,
      "outputs": []
    },
    {
      "cell_type": "code",
      "source": [
        "# Build and compile model\n",
        "model = Model(inputs=[user_input, product_input, user_age_input, user_gender_input, user_location_input, product_price_input, product_rating_input, product_category_input], outputs=output)\n",
        "model.compile(optimizer='adam', loss='binary_crossentropy', metrics=['accuracy'])\n",
        "\n",
        "# Train the model\n",
        "model.fit([train['User_ID'].values, train['Product_ID'].values, users.loc[train['User_ID'] - 1, 'Age'].values, users.loc[train['User_ID'] - 1, 'Gender'].values, users.loc[train['User_ID'] - 1, 'Location'].values, products.loc[train['Product_ID'] - 1, 'Price'].values, products.loc[train['Product_ID'] - 1, 'Avg_Rating'].values, products.loc[train['Product_ID'] - 1, 'Category'].values], train['Label'].values, epochs=5, batch_size=256, validation_split=0.1)\n",
        "\n",
        "\n"
      ],
      "metadata": {
        "colab": {
          "base_uri": "https://localhost:8080/"
        },
        "id": "01xDm_hXS_8y",
        "outputId": "92f74db5-751b-46e3-94f9-69bdae0d903c"
      },
      "execution_count": null,
      "outputs": [
        {
          "output_type": "stream",
          "name": "stdout",
          "text": [
            "Epoch 1/5\n",
            "1125/1125 [==============================] - 14s 11ms/step - loss: 0.5659 - accuracy: 0.7488 - val_loss: 0.5608 - val_accuracy: 0.7520\n",
            "Epoch 2/5\n",
            "1125/1125 [==============================] - 12s 11ms/step - loss: 0.5618 - accuracy: 0.7488 - val_loss: 0.5647 - val_accuracy: 0.7520\n",
            "Epoch 3/5\n",
            "1125/1125 [==============================] - 12s 11ms/step - loss: 0.5488 - accuracy: 0.7489 - val_loss: 0.5742 - val_accuracy: 0.7520\n",
            "Epoch 4/5\n",
            "1125/1125 [==============================] - 12s 11ms/step - loss: 0.5173 - accuracy: 0.7558 - val_loss: 0.6006 - val_accuracy: 0.7374\n",
            "Epoch 5/5\n",
            "1125/1125 [==============================] - 12s 11ms/step - loss: 0.4689 - accuracy: 0.7820 - val_loss: 0.6500 - val_accuracy: 0.6967\n"
          ]
        },
        {
          "output_type": "execute_result",
          "data": {
            "text/plain": [
              "<keras.callbacks.History at 0x7b4bb898fc70>"
            ]
          },
          "metadata": {},
          "execution_count": 24
        }
      ]
    },
    {
      "cell_type": "code",
      "source": [
        "# Evaluate\n",
        "\n",
        "\n",
        "test_loss, test_acc = model.evaluate([test['User_ID'].values, test['Product_ID'].values, users.loc[test['User_ID'] - 1, 'Age'].values, users.loc[test['User_ID'] - 1, 'Gender'].values, users.loc[test['User_ID'] - 1, 'Location'].values, products.loc[test['Product_ID'] - 1, 'Price'].values, products.loc[test['Product_ID'] - 1, 'Avg_Rating'].values, products.loc[test['Product_ID'] - 1, 'Category'].values], test['Label'].values)\n",
        "print(f\"Test Accuracy: {test_acc}\")\n"
      ],
      "metadata": {
        "colab": {
          "base_uri": "https://localhost:8080/"
        },
        "id": "IEsZdzryTc3K",
        "outputId": "f9f5ba7b-e279-41f4-f29e-2711c6ebe39e"
      },
      "execution_count": null,
      "outputs": [
        {
          "output_type": "stream",
          "name": "stdout",
          "text": [
            "2500/2500 [==============================] - 5s 2ms/step - loss: 0.6482 - accuracy: 0.6969\n",
            "Test Accuracy: 0.6969000101089478\n"
          ]
        }
      ]
    },
    {
      "cell_type": "code",
      "source": [
        "from sklearn.metrics import mean_squared_error, mean_absolute_error, r2_score,f1_score,precision_score,recall_score,explained_variance_score\n",
        "\n",
        "# Get predictions for the test set using the trained NCF model\n",
        "ncf_predictions = model.predict([test['User_ID'].values, test['Product_ID'].values, users.loc[test['User_ID'] - 1, 'Age'].values, users.loc[test['User_ID'] - 1, 'Gender'].values, users.loc[test['User_ID'] - 1, 'Location'].values, products.loc[test['Product_ID'] - 1, 'Price'].values, products.loc[test['Product_ID'] - 1, 'Avg_Rating'].values, products.loc[test['Product_ID'] - 1, 'Category'].values])\n",
        "\n",
        "ncf_rmse = mean_squared_error(test['Label'].values, ncf_predictions, squared=False)\n",
        "ncf_mae = mean_absolute_error(test['Label'].values, ncf_predictions)\n",
        "ncf_mse = mean_squared_error(test['Label'].values, ncf_predictions)\n",
        "\n",
        "\n",
        "# Compute Precision, Recall, and F1-Score\n",
        "\n",
        "\n",
        "# Compute Explained Variance Score\n",
        "ncf_explained_variance = explained_variance_score(test['Label'].values, ncf_predictions)\n",
        "\n",
        "print(f\"NCF - RMSE: {ncf_rmse}, MAE: {ncf_mae},Explained varience score: {ncf_explained_variance}\")\n",
        "print()\n",
        "\n",
        "\n",
        "\n"
      ],
      "metadata": {
        "colab": {
          "base_uri": "https://localhost:8080/"
        },
        "id": "oxvDqzy1WIEy",
        "outputId": "f25ca98d-494c-4b5f-f119-c32474c36178"
      },
      "execution_count": null,
      "outputs": [
        {
          "output_type": "stream",
          "name": "stdout",
          "text": [
            "2500/2500 [==============================] - 9s 4ms/step\n",
            "NCF - RMSE: 0.4648408552039187, MAE: 0.38347412329044384,Explained varience score: -0.16207979566476283\n",
            "\n"
          ]
        }
      ]
    },
    {
      "cell_type": "markdown",
      "source": [
        "# **Multiple Model Testing**"
      ],
      "metadata": {
        "id": "Iq1SvKERjJE1"
      }
    },
    {
      "cell_type": "code",
      "source": [
        "import pandas as pd\n",
        "from sklearn.model_selection import train_test_split\n",
        "from sklearn.preprocessing import LabelEncoder\n",
        "from sklearn.linear_model import LinearRegression\n",
        "from sklearn.ensemble import RandomForestRegressor\n",
        "from sklearn.metrics import mean_squared_error\n",
        "import xgboost as xgb\n",
        "from sklearn.metrics import mean_absolute_error, r2_score, precision_score,recall_score\n",
        "\n",
        "# def evaluate_model(predictions, y_test):\n",
        "#     \"\"\"Evaluate the model and return RMSE, MAE, R^2, and MSE\"\"\"\n",
        "#     rmse = mean_squared_error(y_test, predictions, squared=False)\n",
        "#     mae = mean_absolute_error(y_test, predictions)\n",
        "\n",
        "#     r2 = r2_score(y_test, predictions)\n",
        "#     mse = mean_squared_error(y_test, predictions)\n",
        "#     return rmse, mae\n",
        "\n",
        "def evaluate_model(predictions, y_test, threshold=3):\n",
        "    \"\"\"Evaluate the model and return RMSE, MAE, R^2, MSE, Precision, Recall, F1-score, and Explained Variance\"\"\"\n",
        "    rmse = mean_squared_error(y_test, predictions, squared=False)\n",
        "    mae = mean_absolute_error(y_test, predictions)\n",
        "\n",
        "    # Convert ratings into binary labels based on threshold\n",
        "    y_true_bin = [1 if i > threshold else 0 for i in y_test]\n",
        "    predictions_bin = [1 if i > threshold else 0 for i in predictions]\n",
        "\n",
        "    precision = precision_score(y_true_bin, predictions_bin)\n",
        "    recall = recall_score(y_true_bin, predictions_bin)\n",
        "    f1 = f1_score(y_true_bin, predictions_bin)\n",
        "    explained_variance = explained_variance_score(y_test, predictions)\n",
        "\n",
        "    return rmse, mae, precision, recall, f1, explained_variance\n",
        "\n",
        "# This function can now be used to evaluate any model's predictions on the test set.\n",
        "\n",
        "\n",
        "# Load datasets\n",
        "users_data = pd.read_csv('users.csv')\n",
        "products_data = pd.read_csv('products.csv')\n",
        "interactions_data = pd.read_csv('interactions.csv')\n",
        "\n",
        "# Merge datasets\n",
        "merged_data = interactions_data.merge(users_data, on='User_ID').merge(products_data, on='Product_ID')\n",
        "\n",
        "# Label encode categorical columns\n",
        "label_columns = ['Gender', 'Location', 'Interests', 'Category', 'Product_Name', 'Interaction_Type']\n",
        "for col in label_columns:\n",
        "    le = LabelEncoder()\n",
        "    merged_data[col] = le.fit_transform(merged_data[col])\n",
        "\n",
        "# Fill missing ratings with the average rating of the product\n",
        "merged_data['Rating'].fillna(merged_data['Avg_Rating'], inplace=True)\n",
        "\n",
        "# Define X (features) and y (target)\n",
        "X = merged_data.drop(columns=['User_ID', 'Product_ID', 'Rating'])\n",
        "y = merged_data['Rating']\n",
        "\n",
        "# Split the data\n",
        "X_train, X_test, y_train, y_test = train_test_split(X, y, test_size=0.2, random_state=42)\n",
        "\n",
        "# Linear Regression\n",
        "lr_model = LinearRegression()\n",
        "lr_model.fit(X_train, y_train)\n",
        "lr_predictions = lr_model.predict(X_test)\n",
        "lr_rmse = mean_squared_error(y_test, lr_predictions, squared=False)\n",
        "\n",
        "\n",
        "# Random Forest Regressor\n",
        "rf_model = RandomForestRegressor(n_estimators=50, random_state=42)\n",
        "rf_model.fit(X_train, y_train)\n",
        "rf_predictions = rf_model.predict(X_test)\n",
        "rf_rmse = mean_squared_error(y_test, rf_predictions, squared=False)\n",
        "\n",
        "\n",
        "# XGBoost Regressor\n",
        "dtrain = xgb.DMatrix(X_train, label=y_train)\n",
        "dtest = xgb.DMatrix(X_test, label=y_test)\n",
        "params = {\n",
        "    'objective': 'reg:squarederror',\n",
        "    'eval_metric': 'rmse',\n",
        "    'eta': 0.05,\n",
        "    'max_depth': 6,\n",
        "    'subsample': 0.7,\n",
        "    'colsample_bytree': 0.8\n",
        "}\n",
        "xgb_model = xgb.train(params, dtrain, num_boost_round=100)\n",
        "xgb_predictions = xgb_model.predict(dtest)\n",
        "xgb_rmse = mean_squared_error(y_test, xgb_predictions, squared=False)\n",
        "\n",
        "\n",
        "\n",
        "\n",
        "lr_rmse, lr_mae,lr_precision,lr_recall,lr_f1_score,lr_explained_varience = evaluate_model(lr_predictions, y_test)\n",
        "print(f\"Linear Regression - RMSE: {lr_rmse}, MAE: {lr_mae}, Precision: {lr_precision}, Recall: {lr_recall}, F1: {lr_f1_score}, Explained Varience: {lr_explained_varience}\")\n",
        "\n",
        "# Evaluate Random Forest Regressor\n",
        "rf_rmse, rf_mae,rf_precision,rf_recall,rf_f1_score,rf_explained_varience  = evaluate_model(rf_predictions, y_test)\n",
        "print(f\"Random Forest - RMSE: {rf_rmse}, MAE: {rf_mae}, Precision: {rf_precision}, Recall: {rf_recall}, F1: {rf_f1_score}, Explained Varience: {rf_explained_varience}\")\n",
        "\n",
        "# Evaluate XGBoost Regressor\n",
        "xgb_rmse, xgb_mae,xgb_precision,xgb_recall,xgb_f1_score,xgb_explained_varience  = evaluate_model(xgb_predictions, y_test)\n",
        "print(f\"XGBoost - RMSE: {xgb_rmse}, MAE: {xgb_mae}, Precision: {xgb_precision}, Recall: {xgb_recall}, F1: {xgb_f1_score}, Explained Varience: {xgb_explained_varience}\")\n"
      ],
      "metadata": {
        "colab": {
          "base_uri": "https://localhost:8080/"
        },
        "id": "vRW9JK9OjIXo",
        "outputId": "65e4d60a-6ee0-4847-ba35-a17f696e9562"
      },
      "execution_count": null,
      "outputs": [
        {
          "output_type": "stream",
          "name": "stdout",
          "text": [
            "Linear Regression - RMSE: 0.9847684571436717, MAE: 0.6756059179364098, Precision: 0.7956577266922095, Recall: 0.8604972375690608, F1: 0.8268082282680823, Explained Varience: 0.38302644177626866\n",
            "Random Forest - RMSE: 0.851680050464725, MAE: 0.427636974761906, Precision: 0.7945083267248215, Recall: 0.8515724606884828, F1: 0.8220512820512821, Explained Varience: 0.5385333752680524\n",
            "XGBoost - RMSE: 0.821899789140935, MAE: 0.42852632621455194, Precision: 0.8173658943853058, Recall: 0.8321291967700808, F1: 0.8246814783615879, Explained Varience: 0.5702404741395826\n"
          ]
        }
      ]
    },
    {
      "cell_type": "markdown",
      "source": [
        "# **Using DeppMF and XGBoost**"
      ],
      "metadata": {
        "id": "ri0__QF-muGk"
      }
    },
    {
      "cell_type": "code",
      "source": [
        "# Necessary imports\n",
        "import pandas as pd\n",
        "import numpy as np\n",
        "from sklearn.model_selection import train_test_split\n",
        "from sklearn.preprocessing import LabelEncoder\n",
        "import xgboost as xgb\n",
        "from keras.models import Model\n",
        "from keras.layers import Input, Embedding, Flatten, Dot, Dense, Concatenate\n",
        "\n",
        "# Load datasets\n",
        "users_data = pd.read_csv('users.csv')\n",
        "products_data = pd.read_csv('products.csv')\n",
        "interactions_data = pd.read_csv('interactions.csv')\n",
        "\n",
        "# Relabel User_ID and Product_ID to start from 0\n",
        "user_encoder = LabelEncoder()\n",
        "product_encoder = LabelEncoder()\n",
        "\n",
        "users_data['User_ID'] = user_encoder.fit_transform(users_data['User_ID'])\n",
        "products_data['Product_ID'] = product_encoder.fit_transform(products_data['Product_ID'])\n",
        "interactions_data['User_ID'] = user_encoder.transform(interactions_data['User_ID'])\n",
        "interactions_data['Product_ID'] = product_encoder.transform(interactions_data['Product_ID'])\n",
        "\n",
        "# Merge datasets\n",
        "merged_data = interactions_data.merge(users_data, on='User_ID').merge(products_data, on='Product_ID')\n",
        "\n",
        "# Label encode other categorical columns\n",
        "label_columns = ['Gender', 'Location', 'Interests', 'Category', 'Product_Name', 'Interaction_Type']\n",
        "for col in label_columns:\n",
        "    le = LabelEncoder()\n",
        "    merged_data[col] = le.fit_transform(merged_data[col])\n",
        "\n",
        "# Handle NaN or infinite values in the 'Rating' column\n",
        "merged_data['Rating'].fillna(merged_data['Rating'].mean(), inplace=True)  # Replace NaN with the mean rating\n",
        "merged_data = merged_data[~np.isinf(merged_data['Rating'])]  # Remove rows with infinite values\n",
        "\n",
        "# Split the data\n",
        "X = merged_data.drop(columns=['Rating'])\n",
        "y = merged_data['Rating']\n",
        "X_train, X_test, y_train, y_test = train_test_split(X, y, test_size=0.2, random_state=42)\n",
        "\n",
        "# XGBoost Model\n",
        "# For XGBoost, we don't need User_ID and Product_ID\n",
        "X_train_xgb = X_train.drop(columns=['User_ID', 'Product_ID'])\n",
        "X_test_xgb = X_test.drop(columns=['User_ID', 'Product_ID'])\n",
        "\n",
        "dtrain = xgb.DMatrix(X_train_xgb, label=y_train)\n",
        "dtest = xgb.DMatrix(X_test_xgb, label=y_test)\n",
        "params = {\n",
        "    'objective': 'reg:squarederror',\n",
        "    'eval_metric': 'rmse',\n",
        "    'eta': 0.05,\n",
        "    'max_depth': 6,\n",
        "    'subsample': 0.7,\n",
        "    'colsample_bytree': 0.8\n",
        "}\n",
        "xgb_model = xgb.train(params, dtrain, num_boost_round=100)\n",
        "xgb_predictions = xgb_model.predict(dtest)\n",
        "\n",
        "# Deep Matrix Factorization (DeepMF) Model\n",
        "n_users = len(merged_data['User_ID'].unique())\n",
        "n_products = len(merged_data['Product_ID'].unique())\n",
        "embedding_size = 10\n",
        "\n",
        "user_input = Input(shape=[1], name='User')\n",
        "product_input = Input(shape=[1], name='Product')\n",
        "\n",
        "user_embedding = Embedding(n_users, embedding_size, name='User-Embedding')(user_input)\n",
        "product_embedding = Embedding(n_products, embedding_size, name='Product-Embedding')(product_input)\n",
        "\n",
        "user_vec = Flatten(name='Flatten-Users')(user_embedding)\n",
        "product_vec = Flatten(name='Flatten-Products')(product_embedding)\n",
        "mf_vec = Dot(name='Dot-Product', axes=1)([user_vec, product_vec])\n",
        "\n",
        "concat = Concatenate()([user_vec, product_vec, mf_vec])\n",
        "dense = Dense(128, activation='relu')(concat)\n",
        "dense = Dense(64, activation='relu')(dense)\n",
        "output = Dense(1)(dense)\n",
        "\n",
        "deepmf_model = Model([user_input, product_input], output)\n",
        "deepmf_model.compile(optimizer='adam', loss='mean_squared_error')\n",
        "deepmf_model.fit([X_train['User_ID'], X_train['Product_ID']], y_train, epochs=10, batch_size=64)\n",
        "deepmf_predictions = deepmf_model.predict([X_test['User_ID'], X_test['Product_ID']])\n"
      ],
      "metadata": {
        "colab": {
          "base_uri": "https://localhost:8080/"
        },
        "id": "j7wno2Xjn-1p",
        "outputId": "91105889-36be-472c-88f8-6bde092d1f18"
      },
      "execution_count": null,
      "outputs": [
        {
          "output_type": "stream",
          "name": "stdout",
          "text": [
            "Epoch 1/10\n",
            "1250/1250 [==============================] - 7s 5ms/step - loss: 0.9041\n",
            "Epoch 2/10\n",
            "1250/1250 [==============================] - 6s 4ms/step - loss: 0.6735\n",
            "Epoch 3/10\n",
            "1250/1250 [==============================] - 11s 9ms/step - loss: 0.6286\n",
            "Epoch 4/10\n",
            "1250/1250 [==============================] - 11s 9ms/step - loss: 0.4622\n",
            "Epoch 5/10\n",
            "1250/1250 [==============================] - 8s 6ms/step - loss: 0.2671\n",
            "Epoch 6/10\n",
            "1250/1250 [==============================] - 9s 7ms/step - loss: 0.1537\n",
            "Epoch 7/10\n",
            "1250/1250 [==============================] - 12s 10ms/step - loss: 0.0976\n",
            "Epoch 8/10\n",
            "1250/1250 [==============================] - 8s 6ms/step - loss: 0.0651\n",
            "Epoch 9/10\n",
            "1250/1250 [==============================] - 11s 9ms/step - loss: 0.0474\n",
            "Epoch 10/10\n",
            "1250/1250 [==============================] - 12s 10ms/step - loss: 0.0470\n",
            "625/625 [==============================] - 1s 1ms/step\n"
          ]
        }
      ]
    },
    {
      "cell_type": "code",
      "source": [
        "from sklearn.metrics import mean_squared_error, mean_absolute_error, precision_score,recall_score\n",
        "\n",
        "# Evaluation for XGBoost\n",
        "xgb_rmse = mean_squared_error(y_test, xgb_predictions, squared=False)\n",
        "xgb_mae = mean_absolute_error(y_test, xgb_predictions)\n",
        "\n",
        "# Evaluation for DeepMF\n",
        "deepmf_rmse = mean_squared_error(y_test, deepmf_predictions, squared=False)\n",
        "deepmf_mae = mean_absolute_error(y_test, deepmf_predictions)\n",
        "\n",
        "from sklearn.metrics import f1_score, explained_variance_score\n",
        "\n",
        "# Convert ratings into binary labels based on a threshold of 3\n",
        "y_test_bin = [1 if i > 3 else 0 for i in y_test]\n",
        "xgb_predictions_bin = [1 if i > 3 else 0 for i in xgb_predictions]\n",
        "deepmf_predictions_bin = [1 if i > 3 else 0 for i in deepmf_predictions]\n",
        "\n",
        "# Compute Precision, Recall, and F1-Score for XGBoost\n",
        "xgb_precision = precision_score(y_test_bin, xgb_predictions_bin)\n",
        "xgb_recall = recall_score(y_test_bin, xgb_predictions_bin)\n",
        "xgb_f1 = f1_score(y_test_bin, xgb_predictions_bin)\n",
        "xgb_explained_variance = explained_variance_score(y_test, xgb_predictions)\n",
        "\n",
        "# Compute Precision, Recall, and F1-Score for DeepMF\n",
        "deepmf_precision = precision_score(y_test_bin, deepmf_predictions_bin)\n",
        "deepmf_recall = recall_score(y_test_bin, deepmf_predictions_bin)\n",
        "deepmf_f1 = f1_score(y_test_bin, deepmf_predictions_bin)\n",
        "deepmf_explained_variance = explained_variance_score(y_test, deepmf_predictions)\n",
        "\n",
        "# Print the metrics\n",
        "print(f\"XGBoost - RMSE: {xgb_rmse}, MAE: {xgb_mae}, Precision: {xgb_precision}, Recall: {xgb_recall}, F1: {xgb_f1}, Explained Variance: {xgb_explained_variance}\")\n",
        "print(f\"DeepMF - RMSE: {deepmf_rmse}, MAE: {deepmf_mae}, Precision: {deepmf_precision}, Recall: {deepmf_recall}, F1: {deepmf_f1}, Explained Variance: {deepmf_explained_variance}\")\n",
        "\n",
        "\n",
        "\n",
        "\n"
      ],
      "metadata": {
        "id": "4EB18YtVpspV",
        "outputId": "c46002c1-b37a-4cf4-a7f4-d1e212a4f8ed",
        "colab": {
          "base_uri": "https://localhost:8080/"
        }
      },
      "execution_count": null,
      "outputs": [
        {
          "output_type": "stream",
          "name": "stdout",
          "text": [
            "XGBoost - RMSE: 0.821899789140935, MAE: 0.42852632621455194, Precision: 0.8173658943853058, Recall: 0.8321291967700808, F1: 0.8246814783615879, Explained Variance: 0.5702404741395826\n",
            "DeepMF - RMSE: 1.4174407929851174, MAE: 1.1808177417622805, Precision: 0.4731465880370682, Recall: 0.47736931576710584, F1: 0.4752485720330019, Explained Variance: -0.2781748519074567\n"
          ]
        }
      ]
    }
  ]
}